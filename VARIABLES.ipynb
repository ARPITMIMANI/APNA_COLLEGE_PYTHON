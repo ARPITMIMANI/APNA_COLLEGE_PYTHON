{
 "cells": [
  {
   "cell_type": "code",
   "execution_count": 1,
   "id": "61999cda",
   "metadata": {},
   "outputs": [
    {
     "name": "stdout",
     "output_type": "stream",
     "text": [
      "ALAN WALKER\n",
      "48\n"
     ]
    }
   ],
   "source": [
    "name = \"ALAN WALKER\"\n",
    "age = 48\n",
    "print(name)\n",
    "print(age)"
   ]
  },
  {
   "cell_type": "code",
   "execution_count": 2,
   "id": "9ff4e947",
   "metadata": {},
   "outputs": [
    {
     "name": "stdout",
     "output_type": "stream",
     "text": [
      "ALAN WALKER\n",
      "48\n"
     ]
    }
   ],
   "source": [
    "print(name)\n",
    "print(age)"
   ]
  },
  {
   "cell_type": "code",
   "execution_count": 3,
   "id": "f9b158a1",
   "metadata": {},
   "outputs": [
    {
     "name": "stdout",
     "output_type": "stream",
     "text": [
      "JAMES WATT\n",
      "42\n"
     ]
    }
   ],
   "source": [
    "name = \"JAMES WATT\"\n",
    "age = 42\n",
    "print(name)\n",
    "print(age)"
   ]
  },
  {
   "cell_type": "code",
   "execution_count": 4,
   "id": "2d7cb89e",
   "metadata": {},
   "outputs": [
    {
     "name": "stdout",
     "output_type": "stream",
     "text": [
      "JAMES WATT\n",
      "42\n"
     ]
    }
   ],
   "source": [
    "print(name)\n",
    "print(age)"
   ]
  },
  {
   "cell_type": "code",
   "execution_count": 5,
   "id": "3f44e645",
   "metadata": {},
   "outputs": [
    {
     "name": "stdout",
     "output_type": "stream",
     "text": [
      "TONY STARK\n",
      "52.8\n",
      "True\n"
     ]
    }
   ],
   "source": [
    "name = \"TONY STARK\"\n",
    "age = 52.80\n",
    "is_adult = True\n",
    "print(name)\n",
    "print(age)\n",
    "print(is_adult)"
   ]
  },
  {
   "cell_type": "code",
   "execution_count": 6,
   "id": "2a000dc2",
   "metadata": {},
   "outputs": [
    {
     "name": "stdout",
     "output_type": "stream",
     "text": [
      "TONY STARK\n",
      "52.8\n",
      "True\n"
     ]
    }
   ],
   "source": [
    "name = \"TONY STARK\"\n",
    "age = 52.8\n",
    "is_adult = True\n",
    "print(name)\n",
    "print(age)\n",
    "print(is_adult)"
   ]
  },
  {
   "cell_type": "code",
   "execution_count": 7,
   "id": "125b1e8b",
   "metadata": {},
   "outputs": [
    {
     "name": "stdout",
     "output_type": "stream",
     "text": [
      "TONY STARK\n",
      "52.0\n",
      "True\n"
     ]
    }
   ],
   "source": [
    "name = \"TONY STARK\"\n",
    "age = 52.0\n",
    "is_adult = True\n",
    "print(name)\n",
    "print(age)\n",
    "print(is_adult)"
   ]
  },
  {
   "cell_type": "code",
   "execution_count": 8,
   "id": "ab0f954c",
   "metadata": {},
   "outputs": [
    {
     "name": "stdout",
     "output_type": "stream",
     "text": [
      "Tony\n",
      "Stark\n",
      "52\n",
      "True\n"
     ]
    }
   ],
   "source": [
    "first_name = \"Tony\"\n",
    "last_name = \"Stark\"\n",
    "age = 52\n",
    "is_genius = True\n",
    "print(first_name)\n",
    "print(last_name)\n",
    "print(age)\n",
    "print(is_genius)"
   ]
  },
  {
   "cell_type": "code",
   "execution_count": null,
   "id": "bfd8eb89",
   "metadata": {},
   "outputs": [],
   "source": []
  }
 ],
 "metadata": {
  "kernelspec": {
   "display_name": "Python 3 (ipykernel)",
   "language": "python",
   "name": "python3"
  },
  "language_info": {
   "codemirror_mode": {
    "name": "ipython",
    "version": 3
   },
   "file_extension": ".py",
   "mimetype": "text/x-python",
   "name": "python",
   "nbconvert_exporter": "python",
   "pygments_lexer": "ipython3",
   "version": "3.10.9"
  }
 },
 "nbformat": 4,
 "nbformat_minor": 5
}
