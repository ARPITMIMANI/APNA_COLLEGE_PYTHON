{
 "cells": [
  {
   "cell_type": "code",
   "execution_count": 1,
   "id": "7e579c19",
   "metadata": {},
   "outputs": [
    {
     "name": "stdout",
     "output_type": "stream",
     "text": [
      "You are a adult.\n",
      "You can vote.\n",
      "Thank You\n"
     ]
    }
   ],
   "source": [
    "age = 24\n",
    "if age >= 18:\n",
    "    print(\"You are a adult.\")\n",
    "    print(\"You can vote.\")\n",
    "print(\"Thank You\")    "
   ]
  },
  {
   "cell_type": "code",
   "execution_count": 2,
   "id": "9b1604d0",
   "metadata": {},
   "outputs": [
    {
     "name": "stdout",
     "output_type": "stream",
     "text": [
      "Thank You\n"
     ]
    }
   ],
   "source": [
    "age = 14\n",
    "if age >= 18:\n",
    "    print(\"You are a adult.\")\n",
    "    print(\"You can vote.\")\n",
    "print(\"Thank You\") "
   ]
  },
  {
   "cell_type": "code",
   "execution_count": 3,
   "id": "08a12bf1",
   "metadata": {},
   "outputs": [
    {
     "name": "stdout",
     "output_type": "stream",
     "text": [
      "You are an adult.\n",
      "You can vote.\n"
     ]
    }
   ],
   "source": [
    "age = 24\n",
    "if age >= 18:\n",
    "    print(\"You are an adult.\")\n",
    "    print(\"You can vote.\")\n",
    "else:\n",
    "    print(\"You are not an adult.\")\n",
    "    print(\"You can not vote.\")"
   ]
  },
  {
   "cell_type": "code",
   "execution_count": 4,
   "id": "d4febfc7",
   "metadata": {},
   "outputs": [
    {
     "name": "stdout",
     "output_type": "stream",
     "text": [
      "You are not an adult.\n",
      "You can not vote.\n"
     ]
    }
   ],
   "source": [
    "age = 14\n",
    "if age >= 18:\n",
    "    print(\"You are an adult.\")\n",
    "    print(\"You can vote.\")\n",
    "else:\n",
    "    print(\"You are not an adult.\")\n",
    "    print(\"You can not vote.\")"
   ]
  },
  {
   "cell_type": "code",
   "execution_count": 5,
   "id": "bc5f65ff",
   "metadata": {},
   "outputs": [
    {
     "name": "stdout",
     "output_type": "stream",
     "text": [
      "You are an adult.\n",
      "You can vote.\n"
     ]
    }
   ],
   "source": [
    "age = 30\n",
    "if age >= 18:\n",
    "    print(\"You are an adult.\")\n",
    "    print(\"You can vote.\")\n",
    "elif age < 18 and age > 3:\n",
    "    print(\"You are in school.\")\n",
    "else:\n",
    "    print(\"You are a child.\")"
   ]
  },
  {
   "cell_type": "code",
   "execution_count": 6,
   "id": "80260abe",
   "metadata": {},
   "outputs": [
    {
     "name": "stdout",
     "output_type": "stream",
     "text": [
      "You are in school.\n"
     ]
    }
   ],
   "source": [
    "age = 10\n",
    "if age >= 18:\n",
    "    print(\"You are an adult.\")\n",
    "    print(\"You can vote.\")\n",
    "elif age < 18 and age > 3:\n",
    "    print(\"You are in school.\")\n",
    "else:\n",
    "    print(\"You are a child.\")"
   ]
  },
  {
   "cell_type": "code",
   "execution_count": 7,
   "id": "071088ff",
   "metadata": {},
   "outputs": [
    {
     "name": "stdout",
     "output_type": "stream",
     "text": [
      "You are a child.\n"
     ]
    }
   ],
   "source": [
    "age = 3\n",
    "if age >= 18:\n",
    "    print(\"You are an adult.\")\n",
    "    print(\"You can vote.\")\n",
    "elif age < 18 and age > 3:\n",
    "    print(\"You are in school.\")\n",
    "else:\n",
    "    print(\"You are a child.\")"
   ]
  },
  {
   "cell_type": "code",
   "execution_count": 8,
   "id": "fd000839",
   "metadata": {},
   "outputs": [
    {
     "name": "stdout",
     "output_type": "stream",
     "text": [
      "You are an adult.\n",
      "You can vote.\n"
     ]
    }
   ],
   "source": [
    "age = 18\n",
    "if age >= 18:\n",
    "    print(\"You are an adult.\")\n",
    "    print(\"You can vote.\")\n",
    "elif age < 18 and age > 3:\n",
    "    print(\"You are in school.\")\n",
    "else:\n",
    "    print(\"You are a child.\")"
   ]
  },
  {
   "cell_type": "code",
   "execution_count": null,
   "id": "60a14b2b",
   "metadata": {},
   "outputs": [],
   "source": []
  }
 ],
 "metadata": {
  "kernelspec": {
   "display_name": "Python 3 (ipykernel)",
   "language": "python",
   "name": "python3"
  },
  "language_info": {
   "codemirror_mode": {
    "name": "ipython",
    "version": 3
   },
   "file_extension": ".py",
   "mimetype": "text/x-python",
   "name": "python",
   "nbconvert_exporter": "python",
   "pygments_lexer": "ipython3",
   "version": "3.10.9"
  }
 },
 "nbformat": 4,
 "nbformat_minor": 5
}
