{
 "cells": [
  {
   "cell_type": "code",
   "execution_count": 1,
   "id": "9c978334",
   "metadata": {},
   "outputs": [
    {
     "name": "stdout",
     "output_type": "stream",
     "text": [
      "True\n"
     ]
    }
   ],
   "source": [
    "print ( 8 > 6 )"
   ]
  },
  {
   "cell_type": "code",
   "execution_count": 2,
   "id": "fef173b4",
   "metadata": {},
   "outputs": [
    {
     "name": "stdout",
     "output_type": "stream",
     "text": [
      "True\n"
     ]
    }
   ],
   "source": [
    "print ( 8 >= 6 )"
   ]
  },
  {
   "cell_type": "code",
   "execution_count": 3,
   "id": "5dd2ec9d",
   "metadata": {},
   "outputs": [
    {
     "name": "stdout",
     "output_type": "stream",
     "text": [
      "False\n"
     ]
    }
   ],
   "source": [
    "print ( 8 < 6 )"
   ]
  },
  {
   "cell_type": "code",
   "execution_count": 4,
   "id": "54a18c27",
   "metadata": {},
   "outputs": [
    {
     "name": "stdout",
     "output_type": "stream",
     "text": [
      "False\n"
     ]
    }
   ],
   "source": [
    "print ( 8 <= 6 )"
   ]
  },
  {
   "cell_type": "code",
   "execution_count": 5,
   "id": "775d4377",
   "metadata": {},
   "outputs": [
    {
     "name": "stdout",
     "output_type": "stream",
     "text": [
      "False\n"
     ]
    }
   ],
   "source": [
    "print ( 8 == 6 )"
   ]
  },
  {
   "cell_type": "code",
   "execution_count": 6,
   "id": "c0292984",
   "metadata": {},
   "outputs": [
    {
     "name": "stdout",
     "output_type": "stream",
     "text": [
      "True\n"
     ]
    }
   ],
   "source": [
    "print ( 8 != 6 )"
   ]
  },
  {
   "cell_type": "code",
   "execution_count": 7,
   "id": "063bf0ca",
   "metadata": {},
   "outputs": [
    {
     "name": "stdout",
     "output_type": "stream",
     "text": [
      "True\n"
     ]
    }
   ],
   "source": [
    "print ( 10 == 10 )"
   ]
  },
  {
   "cell_type": "code",
   "execution_count": 8,
   "id": "0f0294af",
   "metadata": {},
   "outputs": [
    {
     "name": "stdout",
     "output_type": "stream",
     "text": [
      "False\n"
     ]
    }
   ],
   "source": [
    "print ( 10 != 10 )"
   ]
  },
  {
   "cell_type": "code",
   "execution_count": null,
   "id": "9e604724",
   "metadata": {},
   "outputs": [],
   "source": []
  }
 ],
 "metadata": {
  "kernelspec": {
   "display_name": "Python 3 (ipykernel)",
   "language": "python",
   "name": "python3"
  },
  "language_info": {
   "codemirror_mode": {
    "name": "ipython",
    "version": 3
   },
   "file_extension": ".py",
   "mimetype": "text/x-python",
   "name": "python",
   "nbconvert_exporter": "python",
   "pygments_lexer": "ipython3",
   "version": "3.10.9"
  }
 },
 "nbformat": 4,
 "nbformat_minor": 5
}
