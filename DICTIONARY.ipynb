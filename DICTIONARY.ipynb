{
 "cells": [
  {
   "cell_type": "code",
   "execution_count": 1,
   "id": "9203f35f",
   "metadata": {},
   "outputs": [
    {
     "name": "stdout",
     "output_type": "stream",
     "text": [
      "{'ENGLISH': 80, 'PHYSICS': 78, 'CHEMISTRY': 84, 'MATHS': 88, 'ECONOMICS': 92, 'BIOLOGY': 96}\n"
     ]
    }
   ],
   "source": [
    "marks = { \"ENGLISH\" : 80 , \"PHYSICS\" : 78 , \"CHEMISTRY\" : 84 , \"MATHS\" : 88 ,\"ECONOMICS\" : 92 , \"BIOLOGY\" : 96 }\n",
    "print(marks)"
   ]
  },
  {
   "cell_type": "code",
   "execution_count": 2,
   "id": "79872a7e",
   "metadata": {},
   "outputs": [
    {
     "name": "stdout",
     "output_type": "stream",
     "text": [
      "88\n"
     ]
    }
   ],
   "source": [
    "print ( marks[\"MATHS\"] )"
   ]
  },
  {
   "cell_type": "code",
   "execution_count": 3,
   "id": "176d79be",
   "metadata": {},
   "outputs": [
    {
     "name": "stdout",
     "output_type": "stream",
     "text": [
      "{'ENGLISH': 80, 'PHYSICS': 78, 'CHEMISTRY': 84, 'MATHS': 88, 'ECONOMICS': 92, 'BIOLOGY': 96, 'HINDI': 76}\n"
     ]
    }
   ],
   "source": [
    "marks[\"HINDI\"] = 76\n",
    "print(marks)"
   ]
  },
  {
   "cell_type": "code",
   "execution_count": 4,
   "id": "ae574f2c",
   "metadata": {},
   "outputs": [
    {
     "name": "stdout",
     "output_type": "stream",
     "text": [
      "{'ENGLISH': 80, 'PHYSICS': 78, 'CHEMISTRY': 84, 'MATHS': 88, 'ECONOMICS': 92, 'BIOLOGY': 90, 'HINDI': 76}\n"
     ]
    }
   ],
   "source": [
    "marks[\"BIOLOGY\"] = 90\n",
    "print(marks)"
   ]
  },
  {
   "cell_type": "code",
   "execution_count": null,
   "id": "47218999",
   "metadata": {},
   "outputs": [],
   "source": []
  }
 ],
 "metadata": {
  "kernelspec": {
   "display_name": "Python 3 (ipykernel)",
   "language": "python",
   "name": "python3"
  },
  "language_info": {
   "codemirror_mode": {
    "name": "ipython",
    "version": 3
   },
   "file_extension": ".py",
   "mimetype": "text/x-python",
   "name": "python",
   "nbconvert_exporter": "python",
   "pygments_lexer": "ipython3",
   "version": "3.10.9"
  }
 },
 "nbformat": 4,
 "nbformat_minor": 5
}
