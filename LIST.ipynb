{
 "cells": [
  {
   "cell_type": "code",
   "execution_count": 1,
   "id": "344f1fa8",
   "metadata": {},
   "outputs": [
    {
     "name": "stdout",
     "output_type": "stream",
     "text": [
      "[32, 47, 36, 44, 43, 49, 35, 48, 41, 38, 31, 50, 45, 33, 39, 34, 46, 42, 35, 41]\n"
     ]
    }
   ],
   "source": [
    "age = [32,47,36,44,43,49,35,48,41,38,31,50,45,33,39,34,46,42,35,41]\n",
    "print(age)"
   ]
  },
  {
   "cell_type": "code",
   "execution_count": 2,
   "id": "056b0c85",
   "metadata": {},
   "outputs": [
    {
     "name": "stdout",
     "output_type": "stream",
     "text": [
      "[32, 47, 36, 44, 43, 49, 35, 48, 41, 38, 31, 50, 45, 33, 39, 34, 46, 35, 42, 34]\n"
     ]
    }
   ],
   "source": [
    "age = [32,47,36,44,43,49,35,48,41,38,31,50,45,33,39,34,46,35,42,34]\n",
    "print(age)"
   ]
  },
  {
   "cell_type": "code",
   "execution_count": 3,
   "id": "ee1e62da",
   "metadata": {},
   "outputs": [
    {
     "name": "stdout",
     "output_type": "stream",
     "text": [
      "32\n"
     ]
    }
   ],
   "source": [
    "print(age[0])"
   ]
  },
  {
   "cell_type": "code",
   "execution_count": 4,
   "id": "327d3a22",
   "metadata": {},
   "outputs": [
    {
     "name": "stdout",
     "output_type": "stream",
     "text": [
      "47\n"
     ]
    }
   ],
   "source": [
    "print(age[1])"
   ]
  },
  {
   "cell_type": "code",
   "execution_count": 5,
   "id": "1ae9477d",
   "metadata": {},
   "outputs": [
    {
     "name": "stdout",
     "output_type": "stream",
     "text": [
      "36\n"
     ]
    }
   ],
   "source": [
    "print(age[2])"
   ]
  },
  {
   "cell_type": "code",
   "execution_count": 6,
   "id": "55ee9a85",
   "metadata": {},
   "outputs": [
    {
     "name": "stdout",
     "output_type": "stream",
     "text": [
      "34\n"
     ]
    }
   ],
   "source": [
    "print(age[-1])"
   ]
  },
  {
   "cell_type": "code",
   "execution_count": 7,
   "id": "50236437",
   "metadata": {},
   "outputs": [
    {
     "name": "stdout",
     "output_type": "stream",
     "text": [
      "42\n"
     ]
    }
   ],
   "source": [
    "print(age[-2])"
   ]
  },
  {
   "cell_type": "code",
   "execution_count": 8,
   "id": "b519f38a",
   "metadata": {},
   "outputs": [
    {
     "name": "stdout",
     "output_type": "stream",
     "text": [
      "35\n"
     ]
    }
   ],
   "source": [
    "print(age[-3])"
   ]
  },
  {
   "cell_type": "code",
   "execution_count": 9,
   "id": "2c66dce5",
   "metadata": {},
   "outputs": [
    {
     "name": "stdout",
     "output_type": "stream",
     "text": [
      "[32, 47, 36, 44, 43, 49, 35, 48, 41, 38, 31]\n"
     ]
    }
   ],
   "source": [
    "print(age[0:11])"
   ]
  },
  {
   "cell_type": "code",
   "execution_count": 10,
   "id": "9d7984f1",
   "metadata": {},
   "outputs": [
    {
     "name": "stdout",
     "output_type": "stream",
     "text": [
      "[50, 45, 33, 39, 34, 46, 35, 42, 34]\n"
     ]
    }
   ],
   "source": [
    "print(age[11:21])"
   ]
  },
  {
   "cell_type": "code",
   "execution_count": 11,
   "id": "90476c8f",
   "metadata": {},
   "outputs": [
    {
     "name": "stdout",
     "output_type": "stream",
     "text": [
      "[31, 50, 45, 33, 39, 34, 46, 35, 42, 34]\n"
     ]
    }
   ],
   "source": [
    "print(age[10:21])"
   ]
  },
  {
   "cell_type": "code",
   "execution_count": 12,
   "id": "56089ad7",
   "metadata": {},
   "outputs": [
    {
     "name": "stdout",
     "output_type": "stream",
     "text": [
      "[31, 50, 45, 33, 39, 34, 46, 35, 42, 34]\n"
     ]
    }
   ],
   "source": [
    "print(age[10:20])"
   ]
  },
  {
   "cell_type": "code",
   "execution_count": 13,
   "id": "b42632b2",
   "metadata": {},
   "outputs": [
    {
     "name": "stdout",
     "output_type": "stream",
     "text": [
      "[31, 45, 39, 46, 42]\n"
     ]
    }
   ],
   "source": [
    "print(age[10:20:2])"
   ]
  },
  {
   "cell_type": "code",
   "execution_count": 14,
   "id": "9afcd5f9",
   "metadata": {},
   "outputs": [
    {
     "name": "stdout",
     "output_type": "stream",
     "text": [
      "[32, 43, 41, 45, 46]\n"
     ]
    }
   ],
   "source": [
    "print(age[0:20:4])"
   ]
  },
  {
   "cell_type": "code",
   "execution_count": 15,
   "id": "04a6557a",
   "metadata": {},
   "outputs": [
    {
     "name": "stdout",
     "output_type": "stream",
     "text": [
      "[35, 48, 41, 38, 31, 50, 45, 33, 39, 34, 46, 35, 42, 34]\n"
     ]
    }
   ],
   "source": [
    "print(age[6:])"
   ]
  },
  {
   "cell_type": "code",
   "execution_count": 16,
   "id": "689d03d6",
   "metadata": {},
   "outputs": [
    {
     "name": "stdout",
     "output_type": "stream",
     "text": [
      "[32, 47, 36, 44, 43, 49, 35, 48, 41, 38, 31, 50, 45, 33]\n"
     ]
    }
   ],
   "source": [
    "print(age[:14])"
   ]
  },
  {
   "cell_type": "code",
   "execution_count": 17,
   "id": "49fdfb61",
   "metadata": {},
   "outputs": [
    {
     "name": "stdout",
     "output_type": "stream",
     "text": [
      "[80, 82, 84, 86, 88, 90]\n"
     ]
    }
   ],
   "source": [
    "marks = [80,82,84,86,88,90]\n",
    "print(marks)"
   ]
  },
  {
   "cell_type": "code",
   "execution_count": 18,
   "id": "a70aa7e4",
   "metadata": {},
   "outputs": [
    {
     "name": "stdout",
     "output_type": "stream",
     "text": [
      "80\n",
      "82\n",
      "84\n",
      "86\n",
      "88\n",
      "90\n"
     ]
    }
   ],
   "source": [
    "for x in marks:\n",
    "    print(x)"
   ]
  },
  {
   "cell_type": "code",
   "execution_count": 19,
   "id": "afbb9e7d",
   "metadata": {},
   "outputs": [
    {
     "name": "stdout",
     "output_type": "stream",
     "text": [
      "[80, 82, 84, 86, 88, 90, 92]\n"
     ]
    }
   ],
   "source": [
    "marks.append(92)\n",
    "print(marks)"
   ]
  },
  {
   "cell_type": "code",
   "execution_count": 20,
   "id": "f03bda81",
   "metadata": {},
   "outputs": [
    {
     "name": "stdout",
     "output_type": "stream",
     "text": [
      "[80, 82, 84, 94, 86, 88, 90, 92]\n"
     ]
    }
   ],
   "source": [
    "marks.insert(3,94)\n",
    "print(marks)"
   ]
  },
  {
   "cell_type": "code",
   "execution_count": 21,
   "id": "a186dd04",
   "metadata": {},
   "outputs": [
    {
     "name": "stdout",
     "output_type": "stream",
     "text": [
      "[80, 96, 82, 84, 94, 86, 88, 90, 92]\n"
     ]
    }
   ],
   "source": [
    "marks.insert(1,96)\n",
    "print(marks)"
   ]
  },
  {
   "cell_type": "code",
   "execution_count": 22,
   "id": "105ee63f",
   "metadata": {},
   "outputs": [
    {
     "name": "stdout",
     "output_type": "stream",
     "text": [
      "[80, 96, 82, 84, 94, 98, 86, 88, 90, 92]\n"
     ]
    }
   ],
   "source": [
    "marks.insert(5,98)\n",
    "print(marks)"
   ]
  },
  {
   "cell_type": "code",
   "execution_count": 23,
   "id": "e0bb2614",
   "metadata": {},
   "outputs": [
    {
     "name": "stdout",
     "output_type": "stream",
     "text": [
      "True\n"
     ]
    }
   ],
   "source": [
    "print ( 90 in marks )"
   ]
  },
  {
   "cell_type": "code",
   "execution_count": 24,
   "id": "a9051ebc",
   "metadata": {},
   "outputs": [
    {
     "name": "stdout",
     "output_type": "stream",
     "text": [
      "False\n"
     ]
    }
   ],
   "source": [
    "print ( 78 in marks )"
   ]
  },
  {
   "cell_type": "code",
   "execution_count": 25,
   "id": "ce9c41fc",
   "metadata": {},
   "outputs": [
    {
     "name": "stdout",
     "output_type": "stream",
     "text": [
      "10\n"
     ]
    }
   ],
   "source": [
    "print ( len(marks) )"
   ]
  },
  {
   "cell_type": "code",
   "execution_count": 26,
   "id": "cc075806",
   "metadata": {},
   "outputs": [
    {
     "name": "stdout",
     "output_type": "stream",
     "text": [
      "20\n"
     ]
    }
   ],
   "source": [
    "print ( len(age) )"
   ]
  },
  {
   "cell_type": "code",
   "execution_count": 27,
   "id": "76748466",
   "metadata": {},
   "outputs": [
    {
     "name": "stdout",
     "output_type": "stream",
     "text": [
      "80\n",
      "96\n",
      "82\n",
      "84\n",
      "94\n",
      "98\n",
      "86\n",
      "88\n",
      "90\n",
      "92\n"
     ]
    }
   ],
   "source": [
    "y = 0\n",
    "while y < len(marks) :\n",
    "    print(marks[y])\n",
    "    y = y + 1 "
   ]
  },
  {
   "cell_type": "code",
   "execution_count": 28,
   "id": "694e5784",
   "metadata": {},
   "outputs": [
    {
     "name": "stdout",
     "output_type": "stream",
     "text": [
      "[]\n"
     ]
    }
   ],
   "source": [
    "marks.clear()\n",
    "print(marks)"
   ]
  },
  {
   "cell_type": "code",
   "execution_count": 29,
   "id": "817f7635",
   "metadata": {},
   "outputs": [
    {
     "name": "stdout",
     "output_type": "stream",
     "text": [
      "['ITALY', 'SPAIN', 'MEXICO', 'GREECE', 'POLAND', 'RUSSIA', 'LATVIA', 'SWEDEN', 'BRAZIL', 'CANADA']\n"
     ]
    }
   ],
   "source": [
    "country = [ \"ITALY\" , \"SPAIN\" , \"MEXICO\" , \"GREECE\" , \"POLAND\" , \"RUSSIA\" ,\"LATVIA\" , \"SWEDEN\" , \"BRAZIL\" , \"CANADA\" ]\n",
    "print(country)"
   ]
  },
  {
   "cell_type": "code",
   "execution_count": 30,
   "id": "c0c65301",
   "metadata": {},
   "outputs": [
    {
     "name": "stdout",
     "output_type": "stream",
     "text": [
      "ITALY\n",
      "SPAIN\n",
      "MEXICO\n",
      "GREECE\n",
      "POLAND\n"
     ]
    }
   ],
   "source": [
    "for c in country:\n",
    "    if c == \"RUSSIA\" :\n",
    "        break\n",
    "    print(c)"
   ]
  },
  {
   "cell_type": "code",
   "execution_count": 31,
   "id": "46dfda85",
   "metadata": {},
   "outputs": [
    {
     "name": "stdout",
     "output_type": "stream",
     "text": [
      "ITALY\n",
      "SPAIN\n",
      "MEXICO\n",
      "GREECE\n",
      "POLAND\n",
      "RUSSIA\n",
      "SWEDEN\n",
      "BRAZIL\n",
      "CANADA\n"
     ]
    }
   ],
   "source": [
    "for c in country:\n",
    "    if c == \"LATVIA\" :\n",
    "        continue\n",
    "    print(c)"
   ]
  },
  {
   "cell_type": "code",
   "execution_count": null,
   "id": "5915be95",
   "metadata": {},
   "outputs": [],
   "source": []
  }
 ],
 "metadata": {
  "kernelspec": {
   "display_name": "Python 3 (ipykernel)",
   "language": "python",
   "name": "python3"
  },
  "language_info": {
   "codemirror_mode": {
    "name": "ipython",
    "version": 3
   },
   "file_extension": ".py",
   "mimetype": "text/x-python",
   "name": "python",
   "nbconvert_exporter": "python",
   "pygments_lexer": "ipython3",
   "version": "3.10.9"
  }
 },
 "nbformat": 4,
 "nbformat_minor": 5
}
