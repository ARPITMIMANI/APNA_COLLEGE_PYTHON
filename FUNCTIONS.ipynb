{
 "cells": [
  {
   "cell_type": "code",
   "execution_count": 1,
   "id": "f4ca22e3",
   "metadata": {},
   "outputs": [
    {
     "name": "stdout",
     "output_type": "stream",
     "text": [
      "['__doc__', '__loader__', '__name__', '__package__', '__spec__', 'acos', 'acosh', 'asin', 'asinh', 'atan', 'atan2', 'atanh', 'ceil', 'comb', 'copysign', 'cos', 'cosh', 'degrees', 'dist', 'e', 'erf', 'erfc', 'exp', 'expm1', 'fabs', 'factorial', 'floor', 'fmod', 'frexp', 'fsum', 'gamma', 'gcd', 'hypot', 'inf', 'isclose', 'isfinite', 'isinf', 'isnan', 'isqrt', 'lcm', 'ldexp', 'lgamma', 'log', 'log10', 'log1p', 'log2', 'modf', 'nan', 'nextafter', 'perm', 'pi', 'pow', 'prod', 'radians', 'remainder', 'sin', 'sinh', 'sqrt', 'tan', 'tanh', 'tau', 'trunc', 'ulp']\n"
     ]
    }
   ],
   "source": [
    "import math\n",
    "print( dir(math) )"
   ]
  },
  {
   "cell_type": "code",
   "execution_count": 2,
   "id": "0c0b65f4",
   "metadata": {},
   "outputs": [
    {
     "name": "stdout",
     "output_type": "stream",
     "text": [
      "14.0\n"
     ]
    }
   ],
   "source": [
    "from math import sqrt\n",
    "print (sqrt(196) )"
   ]
  },
  {
   "cell_type": "code",
   "execution_count": 3,
   "id": "05446960",
   "metadata": {},
   "outputs": [
    {
     "name": "stdout",
     "output_type": "stream",
     "text": [
      "3.0\n"
     ]
    }
   ],
   "source": [
    "from math import *\n",
    "print ( log10(1000) )"
   ]
  },
  {
   "cell_type": "code",
   "execution_count": 4,
   "id": "70e99d2f",
   "metadata": {},
   "outputs": [
    {
     "name": "stdout",
     "output_type": "stream",
     "text": [
      "8.0\n"
     ]
    }
   ],
   "source": [
    "print ( log2(256) )"
   ]
  },
  {
   "cell_type": "code",
   "execution_count": 5,
   "id": "c22c46a9",
   "metadata": {},
   "outputs": [
    {
     "name": "stdout",
     "output_type": "stream",
     "text": [
      "60\n"
     ]
    }
   ],
   "source": [
    "def total (x,y) :\n",
    "    print(x+y)\n",
    "total(24,36)        "
   ]
  },
  {
   "cell_type": "code",
   "execution_count": 6,
   "id": "86b48877",
   "metadata": {},
   "outputs": [
    {
     "name": "stdout",
     "output_type": "stream",
     "text": [
      "100\n"
     ]
    }
   ],
   "source": [
    "total(40,60) "
   ]
  },
  {
   "cell_type": "code",
   "execution_count": 7,
   "id": "214e626e",
   "metadata": {},
   "outputs": [
    {
     "name": "stdout",
     "output_type": "stream",
     "text": [
      "84\n"
     ]
    }
   ],
   "source": [
    "def add (m,n=4) :\n",
    "    print(m+n)\n",
    "add(80)        "
   ]
  },
  {
   "cell_type": "code",
   "execution_count": 8,
   "id": "16558204",
   "metadata": {},
   "outputs": [
    {
     "name": "stdout",
     "output_type": "stream",
     "text": [
      "120\n"
     ]
    }
   ],
   "source": [
    "def add (m,n=4) :\n",
    "    print(m+n)\n",
    "add(80,40) "
   ]
  },
  {
   "cell_type": "code",
   "execution_count": null,
   "id": "97e5fb7f",
   "metadata": {},
   "outputs": [],
   "source": []
  }
 ],
 "metadata": {
  "kernelspec": {
   "display_name": "Python 3 (ipykernel)",
   "language": "python",
   "name": "python3"
  },
  "language_info": {
   "codemirror_mode": {
    "name": "ipython",
    "version": 3
   },
   "file_extension": ".py",
   "mimetype": "text/x-python",
   "name": "python",
   "nbconvert_exporter": "python",
   "pygments_lexer": "ipython3",
   "version": "3.10.9"
  }
 },
 "nbformat": 4,
 "nbformat_minor": 5
}
