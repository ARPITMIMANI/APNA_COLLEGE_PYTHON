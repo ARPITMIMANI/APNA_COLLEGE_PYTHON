{
 "cells": [
  {
   "cell_type": "code",
   "execution_count": 1,
   "id": "a8a1c823",
   "metadata": {},
   "outputs": [
    {
     "name": "stdout",
     "output_type": "stream",
     "text": [
      "ENTER FIRST NUMBER : 16\n",
      "ENTER OPERATOR ( + , - , * , / , // , % , ** ) : +\n",
      "ENTER SECOND NUMBER : 24\n",
      "40\n"
     ]
    }
   ],
   "source": [
    "first = input( \"ENTER FIRST NUMBER : \" )\n",
    "operator = input ( \"ENTER OPERATOR ( + , - , * , / , // , % , ** ) : \" )\n",
    "second = input ( \"ENTER SECOND NUMBER : \" )\n",
    "\n",
    "first = int(first)\n",
    "second = int(second)\n",
    "\n",
    "if operator == \"+\":\n",
    "    print ( first + second )\n",
    "    \n",
    "elif operator == \"-\":\n",
    "    print ( first - second )\n",
    "    \n",
    "elif operator == \"*\":\n",
    "    print ( first * second )\n",
    "    \n",
    "elif operator == \"/\":\n",
    "    print ( first / second )\n",
    "    \n",
    "elif operator == \"//\":\n",
    "    print ( first // second )\n",
    "    \n",
    "elif operator == \"%\":\n",
    "    print ( first % second )\n",
    "    \n",
    "elif operator == \"**\":\n",
    "    print ( first ** second )\n",
    "    \n",
    "else:\n",
    "    print(\"INVALID OPERATION\")"
   ]
  },
  {
   "cell_type": "code",
   "execution_count": 2,
   "id": "f858f920",
   "metadata": {},
   "outputs": [
    {
     "name": "stdout",
     "output_type": "stream",
     "text": [
      "ENTER FIRST NUMBER : 18\n",
      "ENTER OPERATOR ( + , - , * , / , // , % , ** ) : *\n",
      "ENTER SECOND NUMBER : 30\n",
      "540\n"
     ]
    }
   ],
   "source": [
    "first = input( \"ENTER FIRST NUMBER : \" )\n",
    "operator = input ( \"ENTER OPERATOR ( + , - , * , / , // , % , ** ) : \" )\n",
    "second = input ( \"ENTER SECOND NUMBER : \" )\n",
    "\n",
    "first = int(first)\n",
    "second = int(second)\n",
    "\n",
    "if operator == \"+\":\n",
    "    print ( first + second )\n",
    "    \n",
    "elif operator == \"-\":\n",
    "    print ( first - second )\n",
    "    \n",
    "elif operator == \"*\":\n",
    "    print ( first * second )\n",
    "    \n",
    "elif operator == \"/\":\n",
    "    print ( first / second )\n",
    "    \n",
    "elif operator == \"//\":\n",
    "    print ( first // second )\n",
    "    \n",
    "elif operator == \"%\":\n",
    "    print ( first % second )\n",
    "    \n",
    "elif operator == \"**\":\n",
    "    print ( first ** second )\n",
    "    \n",
    "else:\n",
    "    print(\"INVALID OPERATION\")"
   ]
  },
  {
   "cell_type": "code",
   "execution_count": 3,
   "id": "c78c0e72",
   "metadata": {},
   "outputs": [
    {
     "name": "stdout",
     "output_type": "stream",
     "text": [
      "ENTER FIRST NUMBER : 24\n",
      "ENTER OPERATOR ( + , - , * , / , // , % , ** ) : #\n",
      "ENTER SECOND NUMBER : 36\n",
      "INVALID OPERATION\n"
     ]
    }
   ],
   "source": [
    "first = input( \"ENTER FIRST NUMBER : \" )\n",
    "operator = input ( \"ENTER OPERATOR ( + , - , * , / , // , % , ** ) : \" )\n",
    "second = input ( \"ENTER SECOND NUMBER : \" )\n",
    "\n",
    "first = int(first)\n",
    "second = int(second)\n",
    "\n",
    "if operator == \"+\":\n",
    "    print ( first + second )\n",
    "    \n",
    "elif operator == \"-\":\n",
    "    print ( first - second )\n",
    "    \n",
    "elif operator == \"*\":\n",
    "    print ( first * second )\n",
    "    \n",
    "elif operator == \"/\":\n",
    "    print ( first / second )\n",
    "    \n",
    "elif operator == \"//\":\n",
    "    print ( first // second )\n",
    "    \n",
    "elif operator == \"%\":\n",
    "    print ( first % second )\n",
    "    \n",
    "elif operator == \"**\":\n",
    "    print ( first ** second )\n",
    "    \n",
    "else:\n",
    "    print(\"INVALID OPERATION\")"
   ]
  },
  {
   "cell_type": "code",
   "execution_count": null,
   "id": "c3725a02",
   "metadata": {},
   "outputs": [],
   "source": []
  }
 ],
 "metadata": {
  "kernelspec": {
   "display_name": "Python 3 (ipykernel)",
   "language": "python",
   "name": "python3"
  },
  "language_info": {
   "codemirror_mode": {
    "name": "ipython",
    "version": 3
   },
   "file_extension": ".py",
   "mimetype": "text/x-python",
   "name": "python",
   "nbconvert_exporter": "python",
   "pygments_lexer": "ipython3",
   "version": "3.10.9"
  }
 },
 "nbformat": 4,
 "nbformat_minor": 5
}
