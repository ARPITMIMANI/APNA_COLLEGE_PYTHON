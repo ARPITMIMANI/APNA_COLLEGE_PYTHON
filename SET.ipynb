{
 "cells": [
  {
   "cell_type": "code",
   "execution_count": 1,
   "id": "c0c1d30f",
   "metadata": {},
   "outputs": [
    {
     "name": "stdout",
     "output_type": "stream",
     "text": [
      "{32, 34, 36, 38, 40, 3034, 30}\n"
     ]
    }
   ],
   "source": [
    "age = {32,34,30,36,32,30,34,36,34,32,30,40,32,30,38,36,3034,32,30,38,34,30}\n",
    "print(age)"
   ]
  },
  {
   "cell_type": "code",
   "execution_count": 2,
   "id": "707f7773",
   "metadata": {},
   "outputs": [
    {
     "name": "stdout",
     "output_type": "stream",
     "text": [
      "{32, 34, 36, 38, 40, 30}\n"
     ]
    }
   ],
   "source": [
    "age = {32,34,30,36,32,30,34,36,34,32,30,40,32,30,38,36,30,34,32,30,38,34,30}\n",
    "print(age)"
   ]
  },
  {
   "cell_type": "code",
   "execution_count": 3,
   "id": "beadb410",
   "metadata": {},
   "outputs": [
    {
     "name": "stdout",
     "output_type": "stream",
     "text": [
      "32\n",
      "34\n",
      "36\n",
      "38\n",
      "40\n",
      "30\n"
     ]
    }
   ],
   "source": [
    "for num in age:\n",
    "    print(num)"
   ]
  },
  {
   "cell_type": "code",
   "execution_count": 4,
   "id": "d67d1822",
   "metadata": {},
   "outputs": [
    {
     "name": "stdout",
     "output_type": "stream",
     "text": [
      "32\n",
      "34\n",
      "36\n",
      "38\n",
      "40\n",
      "30\n"
     ]
    }
   ],
   "source": [
    "for num in age:\n",
    "    print(num)"
   ]
  },
  {
   "cell_type": "code",
   "execution_count": 5,
   "id": "89f17c9d",
   "metadata": {},
   "outputs": [
    {
     "name": "stdout",
     "output_type": "stream",
     "text": [
      "{'french', 'danish', 'greek', 'english', 'dutch', 'hindi', 'turkish', 'irish', 'russian', 'german'}\n"
     ]
    }
   ],
   "source": [
    "language = { \"german\" , \"dutch\" , \"greek\" , \"turkish\" , \"russian\" , \"french\" , \"danish\" , \"irish\" , \"hindi\" , \"english\" }\n",
    "print(language)"
   ]
  },
  {
   "cell_type": "code",
   "execution_count": 6,
   "id": "c051fc1c",
   "metadata": {},
   "outputs": [
    {
     "name": "stdout",
     "output_type": "stream",
     "text": [
      "french\n",
      "danish\n",
      "greek\n",
      "english\n",
      "dutch\n",
      "hindi\n",
      "turkish\n",
      "irish\n",
      "russian\n",
      "german\n"
     ]
    }
   ],
   "source": [
    "for item in language:\n",
    "    print(item)"
   ]
  },
  {
   "cell_type": "code",
   "execution_count": null,
   "id": "cd98224f",
   "metadata": {},
   "outputs": [],
   "source": []
  }
 ],
 "metadata": {
  "kernelspec": {
   "display_name": "Python 3 (ipykernel)",
   "language": "python",
   "name": "python3"
  },
  "language_info": {
   "codemirror_mode": {
    "name": "ipython",
    "version": 3
   },
   "file_extension": ".py",
   "mimetype": "text/x-python",
   "name": "python",
   "nbconvert_exporter": "python",
   "pygments_lexer": "ipython3",
   "version": "3.10.9"
  }
 },
 "nbformat": 4,
 "nbformat_minor": 5
}
