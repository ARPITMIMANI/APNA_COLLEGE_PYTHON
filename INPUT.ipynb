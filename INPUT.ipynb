{
 "cells": [
  {
   "cell_type": "code",
   "execution_count": 1,
   "id": "af28b412",
   "metadata": {},
   "outputs": [
    {
     "name": "stdout",
     "output_type": "stream",
     "text": [
      "MY NAME IS TONY STARK\n",
      "TONY STARK\n"
     ]
    }
   ],
   "source": [
    "name = input(\"MY NAME IS \" )\n",
    "print(name)"
   ]
  },
  {
   "cell_type": "code",
   "execution_count": 2,
   "id": "1e0a60d1",
   "metadata": {},
   "outputs": [
    {
     "name": "stdout",
     "output_type": "stream",
     "text": [
      "What is your name ?Tony Stark\n",
      "HelloTony Stark\n"
     ]
    }
   ],
   "source": [
    "name = input(\"What is your name ?\")\n",
    "print(\"Hello\" + name)"
   ]
  },
  {
   "cell_type": "code",
   "execution_count": 3,
   "id": "d7b0549a",
   "metadata": {},
   "outputs": [
    {
     "name": "stdout",
     "output_type": "stream",
     "text": [
      "What is your name ? Tony Stark\n",
      "Hello Tony Stark\n"
     ]
    }
   ],
   "source": [
    "name = input(\"What is your name ? \")\n",
    "print(\"Hello \" + name)"
   ]
  },
  {
   "cell_type": "code",
   "execution_count": 4,
   "id": "c4e5eea5",
   "metadata": {},
   "outputs": [
    {
     "name": "stdout",
     "output_type": "stream",
     "text": [
      "What is superhero name? Alan Walker\n",
      "Alan Walker\n"
     ]
    }
   ],
   "source": [
    "superhero = input(\"What is superhero name? \")\n",
    "print(superhero)"
   ]
  },
  {
   "cell_type": "code",
   "execution_count": null,
   "id": "030dc096",
   "metadata": {},
   "outputs": [],
   "source": []
  }
 ],
 "metadata": {
  "kernelspec": {
   "display_name": "Python 3 (ipykernel)",
   "language": "python",
   "name": "python3"
  },
  "language_info": {
   "codemirror_mode": {
    "name": "ipython",
    "version": 3
   },
   "file_extension": ".py",
   "mimetype": "text/x-python",
   "name": "python",
   "nbconvert_exporter": "python",
   "pygments_lexer": "ipython3",
   "version": "3.10.9"
  }
 },
 "nbformat": 4,
 "nbformat_minor": 5
}
