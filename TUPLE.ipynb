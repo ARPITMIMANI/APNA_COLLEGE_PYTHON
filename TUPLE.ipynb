{
 "cells": [
  {
   "cell_type": "code",
   "execution_count": 1,
   "id": "a46dc501",
   "metadata": {},
   "outputs": [
    {
     "name": "stdout",
     "output_type": "stream",
     "text": [
      "(32, 30, 36, 32, 30, 34, 36, 34, 32, 30, 40, 32, 30, 38, 36, 3034, 32, 30, 38, 34, 30)\n"
     ]
    }
   ],
   "source": [
    "age = (32,30,36,32,30,34,36,34,32,30,40,32,30,38,36,3034,32,30,38,34,30)\n",
    "print(age)"
   ]
  },
  {
   "cell_type": "code",
   "execution_count": 2,
   "id": "d4f2b5ec",
   "metadata": {},
   "outputs": [
    {
     "name": "stdout",
     "output_type": "stream",
     "text": [
      "6\n"
     ]
    }
   ],
   "source": [
    "print ( age.count(30) )"
   ]
  },
  {
   "cell_type": "code",
   "execution_count": 3,
   "id": "316fb050",
   "metadata": {},
   "outputs": [
    {
     "name": "stdout",
     "output_type": "stream",
     "text": [
      "5\n"
     ]
    }
   ],
   "source": [
    "print ( age.count(32) )"
   ]
  },
  {
   "cell_type": "code",
   "execution_count": 4,
   "id": "29d548e9",
   "metadata": {},
   "outputs": [
    {
     "name": "stdout",
     "output_type": "stream",
     "text": [
      "3\n"
     ]
    }
   ],
   "source": [
    "print ( age.count(34) )"
   ]
  },
  {
   "cell_type": "code",
   "execution_count": 5,
   "id": "40f21791",
   "metadata": {},
   "outputs": [
    {
     "name": "stdout",
     "output_type": "stream",
     "text": [
      "3\n"
     ]
    }
   ],
   "source": [
    "print ( age.count(36) )"
   ]
  },
  {
   "cell_type": "code",
   "execution_count": 6,
   "id": "e7bc2625",
   "metadata": {},
   "outputs": [
    {
     "name": "stdout",
     "output_type": "stream",
     "text": [
      "2\n"
     ]
    }
   ],
   "source": [
    "print ( age.count(38) )"
   ]
  },
  {
   "cell_type": "code",
   "execution_count": 7,
   "id": "c0334635",
   "metadata": {},
   "outputs": [
    {
     "name": "stdout",
     "output_type": "stream",
     "text": [
      "1\n"
     ]
    }
   ],
   "source": [
    "print ( age.count(40) )"
   ]
  },
  {
   "cell_type": "code",
   "execution_count": 8,
   "id": "050394f4",
   "metadata": {},
   "outputs": [
    {
     "name": "stdout",
     "output_type": "stream",
     "text": [
      "(32, 34, 30, 36, 32, 30, 34, 36, 34, 32, 30, 40, 32, 30, 38, 36, 3034, 32, 30, 38, 34, 30)\n"
     ]
    }
   ],
   "source": [
    "age = (32,34,30,36,32,30,34,36,34,32,30,40,32,30,38,36,3034,32,30,38,34,30)\n",
    "print(age)"
   ]
  },
  {
   "cell_type": "code",
   "execution_count": 9,
   "id": "ff19c8aa",
   "metadata": {},
   "outputs": [
    {
     "name": "stdout",
     "output_type": "stream",
     "text": [
      "6\n",
      "5\n",
      "4\n",
      "3\n",
      "2\n",
      "1\n"
     ]
    }
   ],
   "source": [
    "print ( age.count(30) )\n",
    "print ( age.count(32) )\n",
    "print ( age.count(34) )\n",
    "print ( age.count(36) )\n",
    "print ( age.count(38) )\n",
    "print ( age.count(40) )"
   ]
  },
  {
   "cell_type": "code",
   "execution_count": 10,
   "id": "454a2a9a",
   "metadata": {},
   "outputs": [
    {
     "name": "stdout",
     "output_type": "stream",
     "text": [
      "2\n"
     ]
    }
   ],
   "source": [
    "print ( age.index(30) )"
   ]
  },
  {
   "cell_type": "code",
   "execution_count": 11,
   "id": "7999079a",
   "metadata": {},
   "outputs": [
    {
     "name": "stdout",
     "output_type": "stream",
     "text": [
      "0\n"
     ]
    }
   ],
   "source": [
    "print ( age.index(32) )"
   ]
  },
  {
   "cell_type": "code",
   "execution_count": 12,
   "id": "11ce16fc",
   "metadata": {},
   "outputs": [
    {
     "name": "stdout",
     "output_type": "stream",
     "text": [
      "2\n",
      "0\n",
      "1\n",
      "3\n",
      "14\n",
      "11\n"
     ]
    }
   ],
   "source": [
    "print ( age.index(30) )\n",
    "print ( age.index(32) )\n",
    "print ( age.index(34) )\n",
    "print ( age.index(36) )\n",
    "print ( age.index(38) )\n",
    "print ( age.index(40) )"
   ]
  },
  {
   "cell_type": "code",
   "execution_count": 13,
   "id": "b645c688",
   "metadata": {},
   "outputs": [
    {
     "name": "stdout",
     "output_type": "stream",
     "text": [
      "('german', 'dutch', 'greek', 'turkish', 'russian', 'french', 'danish', 'irish', 'hindi', 'english')\n"
     ]
    }
   ],
   "source": [
    "language = \"german\" , \"dutch\" , \"greek\" , \"turkish\" , \"russian\" , \"french\" , \"danish\" , \"irish\" , \"hindi\" , \"english\"\n",
    "print(language)"
   ]
  },
  {
   "cell_type": "code",
   "execution_count": 14,
   "id": "fbf17ae3",
   "metadata": {},
   "outputs": [
    {
     "name": "stdout",
     "output_type": "stream",
     "text": [
      "('german', 'dutch', 'greek', 'turkish', 'russian', 'french', 'danish', 'irish', 'hindi', 'english')\n"
     ]
    }
   ],
   "source": [
    "language = ( \"german\" , \"dutch\" , \"greek\" , \"turkish\" , \"russian\" , \"french\" , \"danish\" , \"irish\" , \"hindi\" , \"english\" )\n",
    "print(language)"
   ]
  },
  {
   "cell_type": "code",
   "execution_count": null,
   "id": "1ebf807c",
   "metadata": {},
   "outputs": [],
   "source": []
  }
 ],
 "metadata": {
  "kernelspec": {
   "display_name": "Python 3 (ipykernel)",
   "language": "python",
   "name": "python3"
  },
  "language_info": {
   "codemirror_mode": {
    "name": "ipython",
    "version": 3
   },
   "file_extension": ".py",
   "mimetype": "text/x-python",
   "name": "python",
   "nbconvert_exporter": "python",
   "pygments_lexer": "ipython3",
   "version": "3.10.9"
  }
 },
 "nbformat": 4,
 "nbformat_minor": 5
}
