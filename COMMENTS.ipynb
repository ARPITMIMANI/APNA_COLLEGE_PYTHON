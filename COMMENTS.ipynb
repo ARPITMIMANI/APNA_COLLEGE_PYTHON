{
 "cells": [
  {
   "cell_type": "code",
   "execution_count": 1,
   "id": "a7df5b90",
   "metadata": {},
   "outputs": [
    {
     "name": "stdout",
     "output_type": "stream",
     "text": [
      "MULTIPLE LINE COMMENT\n"
     ]
    }
   ],
   "source": [
    "\"\"\" \n",
    "THIS \n",
    "IS \n",
    "KNOWN \n",
    "AS \n",
    "MULTIPLE \n",
    "LINE\n",
    "COMMENT\n",
    "\"\"\"\n",
    "print(\"MULTIPLE LINE COMMENT\")"
   ]
  },
  {
   "cell_type": "code",
   "execution_count": 2,
   "id": "331e536f",
   "metadata": {},
   "outputs": [
    {
     "name": "stdout",
     "output_type": "stream",
     "text": [
      "SINGLE LINE COMMENT\n"
     ]
    }
   ],
   "source": [
    "# THIS IS KNOWN AS SINGLE LINE COMMENT\n",
    "print(\"SINGLE LINE COMMENT\")"
   ]
  },
  {
   "cell_type": "code",
   "execution_count": null,
   "id": "025954fe",
   "metadata": {},
   "outputs": [],
   "source": []
  }
 ],
 "metadata": {
  "kernelspec": {
   "display_name": "Python 3 (ipykernel)",
   "language": "python",
   "name": "python3"
  },
  "language_info": {
   "codemirror_mode": {
    "name": "ipython",
    "version": 3
   },
   "file_extension": ".py",
   "mimetype": "text/x-python",
   "name": "python",
   "nbconvert_exporter": "python",
   "pygments_lexer": "ipython3",
   "version": "3.10.9"
  }
 },
 "nbformat": 4,
 "nbformat_minor": 5
}
