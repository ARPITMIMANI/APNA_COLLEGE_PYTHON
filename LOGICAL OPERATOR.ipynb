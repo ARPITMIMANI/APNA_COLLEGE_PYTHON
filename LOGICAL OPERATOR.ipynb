{
 "cells": [
  {
   "cell_type": "code",
   "execution_count": 1,
   "id": "ab9a9463",
   "metadata": {},
   "outputs": [
    {
     "name": "stdout",
     "output_type": "stream",
     "text": [
      "True\n"
     ]
    }
   ],
   "source": [
    "print ( 18>14 or 20<24 )"
   ]
  },
  {
   "cell_type": "code",
   "execution_count": 2,
   "id": "aa0deba2",
   "metadata": {},
   "outputs": [
    {
     "name": "stdout",
     "output_type": "stream",
     "text": [
      "True\n"
     ]
    }
   ],
   "source": [
    "print ( 18<14 or 20<24 )"
   ]
  },
  {
   "cell_type": "code",
   "execution_count": 3,
   "id": "50cfc95b",
   "metadata": {},
   "outputs": [
    {
     "name": "stdout",
     "output_type": "stream",
     "text": [
      "True\n"
     ]
    }
   ],
   "source": [
    "print ( 18>14 or 20>24 )"
   ]
  },
  {
   "cell_type": "code",
   "execution_count": 4,
   "id": "f2083ceb",
   "metadata": {},
   "outputs": [
    {
     "name": "stdout",
     "output_type": "stream",
     "text": [
      "False\n"
     ]
    }
   ],
   "source": [
    "print ( 18<14 or 20>24 )"
   ]
  },
  {
   "cell_type": "code",
   "execution_count": 5,
   "id": "11b1b3d5",
   "metadata": {},
   "outputs": [
    {
     "name": "stdout",
     "output_type": "stream",
     "text": [
      "True\n"
     ]
    }
   ],
   "source": [
    "print ( 18>14 and 20<24 )"
   ]
  },
  {
   "cell_type": "code",
   "execution_count": 6,
   "id": "1804f999",
   "metadata": {},
   "outputs": [
    {
     "name": "stdout",
     "output_type": "stream",
     "text": [
      "False\n"
     ]
    }
   ],
   "source": [
    "print ( 18<14 and 20<24 )"
   ]
  },
  {
   "cell_type": "code",
   "execution_count": 7,
   "id": "e6976708",
   "metadata": {},
   "outputs": [
    {
     "name": "stdout",
     "output_type": "stream",
     "text": [
      "False\n"
     ]
    }
   ],
   "source": [
    "print ( 18>14 and 20>24 )"
   ]
  },
  {
   "cell_type": "code",
   "execution_count": 8,
   "id": "7f94f1fb",
   "metadata": {},
   "outputs": [
    {
     "name": "stdout",
     "output_type": "stream",
     "text": [
      "False\n"
     ]
    }
   ],
   "source": [
    "print ( 18<14 and 20>24 )"
   ]
  },
  {
   "cell_type": "code",
   "execution_count": 9,
   "id": "ca88c514",
   "metadata": {},
   "outputs": [
    {
     "name": "stdout",
     "output_type": "stream",
     "text": [
      "True\n"
     ]
    }
   ],
   "source": [
    "print ( not 18<14 )"
   ]
  },
  {
   "cell_type": "code",
   "execution_count": 10,
   "id": "d3c5feda",
   "metadata": {},
   "outputs": [
    {
     "name": "stdout",
     "output_type": "stream",
     "text": [
      "False\n"
     ]
    }
   ],
   "source": [
    "print ( not 18>14 )"
   ]
  },
  {
   "cell_type": "code",
   "execution_count": null,
   "id": "1a61f8ce",
   "metadata": {},
   "outputs": [],
   "source": []
  }
 ],
 "metadata": {
  "kernelspec": {
   "display_name": "Python 3 (ipykernel)",
   "language": "python",
   "name": "python3"
  },
  "language_info": {
   "codemirror_mode": {
    "name": "ipython",
    "version": 3
   },
   "file_extension": ".py",
   "mimetype": "text/x-python",
   "name": "python",
   "nbconvert_exporter": "python",
   "pygments_lexer": "ipython3",
   "version": "3.10.9"
  }
 },
 "nbformat": 4,
 "nbformat_minor": 5
}
