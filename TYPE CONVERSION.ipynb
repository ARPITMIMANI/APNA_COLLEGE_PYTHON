{
 "cells": [
  {
   "cell_type": "code",
   "execution_count": 1,
   "id": "d4b82bed",
   "metadata": {},
   "outputs": [
    {
     "name": "stdout",
     "output_type": "stream",
     "text": [
      "enter your old age ? 30\n",
      "32\n"
     ]
    }
   ],
   "source": [
    "old_age = input(\"enter your old age ? \")\n",
    "new_age = int(old_age) + 2\n",
    "print(new_age)"
   ]
  },
  {
   "cell_type": "code",
   "execution_count": 2,
   "id": "1e8c161c",
   "metadata": {},
   "outputs": [
    {
     "name": "stdout",
     "output_type": "stream",
     "text": [
      "18.0\n"
     ]
    }
   ],
   "source": [
    "print(float(18))"
   ]
  },
  {
   "cell_type": "code",
   "execution_count": 3,
   "id": "2c971d41",
   "metadata": {},
   "outputs": [
    {
     "name": "stdout",
     "output_type": "stream",
     "text": [
      "20.0\n"
     ]
    }
   ],
   "source": [
    "n = 20\n",
    "print(float(n))"
   ]
  },
  {
   "cell_type": "code",
   "execution_count": 4,
   "id": "0ae56795",
   "metadata": {},
   "outputs": [
    {
     "name": "stdout",
     "output_type": "stream",
     "text": [
      "enter first number : 16\n",
      "enter second number : 18\n",
      "enter third number : 20\n",
      "54\n"
     ]
    }
   ],
   "source": [
    "n1 = input(\"enter first number : \")\n",
    "n2 = input(\"enter second number : \")\n",
    "n3 = input(\"enter third number : \")\n",
    "total = int(n1) + int(n2) + int(n3)\n",
    "print(total)"
   ]
  },
  {
   "cell_type": "code",
   "execution_count": 5,
   "id": "b0d0b6c6",
   "metadata": {},
   "outputs": [
    {
     "name": "stdout",
     "output_type": "stream",
     "text": [
      "enter first number : 24\n",
      "enter second number : 28\n",
      "enter third number : 32\n",
      "the sum is : 84\n"
     ]
    }
   ],
   "source": [
    "n1 = input(\"enter first number : \")\n",
    "n2 = input(\"enter second number : \")\n",
    "n3 = input(\"enter third number : \")\n",
    "total = int(n1) + int(n2) + int(n3)\n",
    "print( \"the sum is : \" + str(total) )"
   ]
  },
  {
   "cell_type": "code",
   "execution_count": null,
   "id": "f83277f0",
   "metadata": {},
   "outputs": [],
   "source": []
  }
 ],
 "metadata": {
  "kernelspec": {
   "display_name": "Python 3 (ipykernel)",
   "language": "python",
   "name": "python3"
  },
  "language_info": {
   "codemirror_mode": {
    "name": "ipython",
    "version": 3
   },
   "file_extension": ".py",
   "mimetype": "text/x-python",
   "name": "python",
   "nbconvert_exporter": "python",
   "pygments_lexer": "ipython3",
   "version": "3.10.9"
  }
 },
 "nbformat": 4,
 "nbformat_minor": 5
}
